{
 "cells": [
  {
   "cell_type": "code",
   "execution_count": 51,
   "metadata": {},
   "outputs": [],
   "source": [
    "import pydicom\n",
    "import numpy as np\n",
    "from pathlib import Path\n",
    "from tqdm import tqdm\n",
    "import matplotlib.pyplot as plt\n",
    "import datetime"
   ]
  },
  {
   "cell_type": "code",
   "execution_count": 52,
   "metadata": {},
   "outputs": [],
   "source": [
    "# Parameters for Cube Geometry\n",
    "cube_half_width = 75 # mm\n",
    "cube_inside_bevel = 67 # mm\n",
    "bevel_radius = cube_half_width - cube_inside_bevel\n",
    "cube_HU = -15\n",
    "\n",
    "sphere_diameter = 7.5 # mm\n",
    "sphere_centers = np.array([[-10,-25,-30],[10,-15,-15],[0,0,0],[-20,20,10],[20,30,20]])\n",
    "sphere_HU = 3060\n",
    "\n",
    "# Parameters to jitter cube surface to make it imperfect\n",
    "include_jitter = False\n",
    "max_jitter = 0.02 # mm\n",
    "\n",
    "# Parameters for Image Geometry\n",
    "image_matrix_size = 256\n",
    "image_physical_size = 200 # mm\n",
    "image_pixel_size = image_physical_size / image_matrix_size\n",
    "image_positions = np.arange(image_matrix_size)*image_pixel_size + image_pixel_size/2 - image_physical_size/2\n",
    "\n",
    "\n",
    "# Parameters for Slice Geometry\n",
    "number_of_slices = 256\n",
    "image_physical_length = 200 # mm\n",
    "slice_width = image_physical_length / number_of_slices # plus one?\n",
    "slice_positions = np.arange(number_of_slices)*slice_width + slice_width/2 - image_physical_length/2"
   ]
  },
  {
   "cell_type": "code",
   "execution_count": 53,
   "metadata": {},
   "outputs": [],
   "source": [
    "def is_in_sphere(loc):\n",
    "    \"\"\"Checks whether the point loc is in the cube\n",
    "    \n",
    "    PARAMETERS\n",
    "    ----------\n",
    "    loc : list of float\n",
    "        A list of length 3 corresponding to the x, y and z coordinates of the point\n",
    "    \n",
    "    RETURNS\n",
    "    -------\n",
    "    True if the point is in the a sphere, else False\n",
    "    \n",
    "    \"\"\"\n",
    "    \n",
    "    assert len(loc) == 3, \"loc must be a list of three floating point integers\"\n",
    "    \n",
    "    for origin in sphere_centers:\n",
    "        vec = loc - origin\n",
    "        dist = np.linalg.norm(vec)\n",
    "        if dist <= sphere_diameter/2:\n",
    "            return True\n",
    "    \n",
    "    return False\n",
    "\n",
    "def is_in_cube(loc, rounded_edges=True):\n",
    "    \"\"\"Checks whether the point loc is in the cube\n",
    "    \n",
    "    PARAMETERS\n",
    "    ----------\n",
    "    loc : list of float\n",
    "        A list of length 3 corresponding to the x, y and z coordinates of the point\n",
    "    rounded_edges: bool\n",
    "        If True, evaluates for a cube with rounded edges. If false, assumes cube\n",
    "        has sharp edges (default is True)\n",
    "    \n",
    "    RETURNS\n",
    "    -------\n",
    "    True if the point is in the cube, else False\n",
    "    \n",
    "    \"\"\"\n",
    "    \n",
    "    assert len(loc) == 3, \"loc must be a list of three floating point integers\"\n",
    "    \n",
    "    # Cube is symmetric, take abs of x,y,z, convert to ndarray which allows slicing\n",
    "    loc = np.abs(loc)\n",
    "    \n",
    "    # Case 1: Any of the values are greater than the cube half-width, return false:\n",
    "    if any(loc > cube_half_width):\n",
    "        return False\n",
    "    \n",
    "    # If we are not using rounded edges, then we are done. Return True\n",
    "    if not rounded_edges:\n",
    "        return True\n",
    "    \n",
    "    # Case 2: All of the values are less than the cube_inside_bevel, return True:\n",
    "    if all(loc <= cube_inside_bevel):\n",
    "        return True\n",
    "    \n",
    "    # Case 3: If exactly one dimension is greater than cube_inside_bevel, \n",
    "    # then the point is adjacent to a cube face, return True:\n",
    "    if sum(loc > cube_inside_bevel) == 1:\n",
    "        return True\n",
    "\n",
    "    # Case 4: If exactly two dimensions are greater than cube_inside_bevel, \n",
    "    # then the point is adjacent to a cube edge. The point defined by the two\n",
    "    # dimensions that are greater than the cube_inside_bevel must be within a \n",
    "    # radius of bevel_radius of the point cube_inside_bevel*[1,1]:\n",
    "    if sum(loc > cube_inside_bevel) == 2:\n",
    "        \n",
    "        # Get the indicies whose value is greater than cube_inside_bevel\n",
    "        tf_array = loc > cube_inside_bevel\n",
    "    \n",
    "        # Create a 2D vector from the origin to the point in the edge region\n",
    "        origin = cube_inside_bevel*np.ones((3,1))\n",
    "        \n",
    "        vec = loc[tf_array] - origin[tf_array]\n",
    "        dist = np.linalg.norm(vec)\n",
    "        if dist <= bevel_radius:\n",
    "            return True\n",
    "        else:\n",
    "            return False\n",
    "    \n",
    "    # Case 5: If exactly three dimensions are greater than cube_inside_bevel, \n",
    "    # then the point is adjacent to a cube corner. The point must be within a \n",
    "    # radius of bevel_radius of the point cube_inside_bevel*[1,1,1]:\n",
    "    if sum(loc > cube_inside_bevel) == 3:\n",
    "        origin = cube_inside_bevel*np.ones((3,1))\n",
    "        vec = loc - origin\n",
    "        dist = np.linalg.norm(vec)\n",
    "        if dist <= bevel_radius:\n",
    "            return True\n",
    "        else:\n",
    "            return False\n",
    "    \n",
    "    \n",
    "\n"
   ]
  },
  {
   "cell_type": "code",
   "execution_count": 54,
   "metadata": {},
   "outputs": [],
   "source": [
    "def is_in_sphere_np(x, y, z):\n",
    "    \"\"\"\n",
    "    \n",
    "    PARAMETERS\n",
    "    ----------\n",
    "    x : list of float\n",
    "        A list of image coordinates in the x-dimension\n",
    "    y : list of float\n",
    "        A list of image coordinates in the y-dimension\n",
    "    z : list of float\n",
    "        A list of image coordinates in the z-dimension\n",
    "    \n",
    "    RETURNS\n",
    "    -------\n",
    "    A 3D array of shape (len(x),len(y),len(z)), where the array value (i,j,k) is True \n",
    "    if the point x[i], y[j], z[k] is locted in a in the a sphere, else False\n",
    "    \n",
    "    \"\"\"\n",
    "        \n",
    "    XX, YY, ZZ = np.meshgrid(x, y, z, indexing='ij')\n",
    "    \n",
    "    is_in_sphere_array = np.zeros(XX.shape, dtype=bool)\n",
    "    \n",
    "    for origin in sphere_centers:\n",
    "        DXX = XX - origin[0]\n",
    "        DYY = YY - origin[1]\n",
    "        DZZ = ZZ - origin[2]\n",
    "        \n",
    "        quad_sum = np.square(DXX) + np.square(DYY) + np.square(DZZ)\n",
    "        \n",
    "        is_in_this_sphere = (quad_sum <= (sphere_diameter/2)**2)\n",
    "        \n",
    "        np.logical_or(is_in_this_sphere, is_in_sphere_array, out=is_in_sphere_array)\n",
    "    \n",
    "    return is_in_sphere_array"
   ]
  },
  {
   "cell_type": "code",
   "execution_count": null,
   "metadata": {},
   "outputs": [],
   "source": []
  },
  {
   "cell_type": "code",
   "execution_count": 55,
   "metadata": {},
   "outputs": [
    {
     "data": {
      "image/png": "[encoded data removed]",
      "text/plain": [
       "<Figure size 1152x1152 with 1 Axes>"
      ]
     },
     "metadata": {
      "needs_background": "light"
     },
     "output_type": "display_data"
    }
   ],
   "source": [
    "pixel_map = np.zeros((image_matrix_size, image_matrix_size, number_of_slices))-1000\n",
    "\n",
    "tf_in_sphere = is_in_sphere_np(image_positions, image_positions, slice_positions)\n",
    "\n",
    "pixel_map[tf_in_sphere] = sphere_HU\n",
    "\n",
    "img_shape = list(pixel_map.shape)\n",
    "\n",
    "img3d = pixel_map\n",
    "\n",
    "\n",
    "# plot 3 orthogonal slices\n",
    "f, axs = plt.subplots(1,1,figsize=(16,16))\n",
    "\n",
    "plt.imshow(img3d[img_shape[0]//2,:,:])\n",
    "plt.imshow(img3d[:, img_shape[1]//2, :])\n",
    "plt.imshow(img3d[:, :, img_shape[2]//2])\n",
    "\n",
    "plt.show()\n",
    "\n"
   ]
  },
  {
   "cell_type": "code",
   "execution_count": 57,
   "metadata": {},
   "outputs": [
    {
     "name": "stdout",
     "output_type": "stream",
     "text": [
      "file count: 258\n",
      "skipped, no SliceLocation: 2\n"
     ]
    }
   ],
   "source": [
    "dicom_path = Path(\"../visionrt-cube-dicom/data/\")\n",
    "save_path = Path(\"output/\")\n",
    "\n",
    "# load the DICOM files\n",
    "files = []\n",
    "\n",
    "for fname in dicom_path.iterdir():\n",
    "    # print(\"loading: {}\".format(fname))\n",
    "    files.append(pydicom.dcmread(fname))\n",
    "\n",
    "\n",
    "print(\"file count: {}\".format(len(files)))\n",
    "\n",
    "# skip files with no SliceLocation (eg scout views)\n",
    "slices = []\n",
    "skipcount = 0\n",
    "for f in files:\n",
    "    if hasattr(f, 'SliceLocation'):\n",
    "        slices.append(f)       \n",
    "    else:\n",
    "        skipcount = skipcount + 1\n",
    "\n",
    "print(\"skipped, no SliceLocation: {}\".format(skipcount))\n",
    "\n"
   ]
  },
  {
   "cell_type": "code",
   "execution_count": 58,
   "metadata": {},
   "outputs": [],
   "source": [
    "for i, image in enumerate(slices):\n",
    "    file_name = f\"{image.Modality}.{i}.dcm\"\n",
    "    \n",
    "    image = write_meta_data(image)\n",
    "    \"\"\"\n",
    "    # Image Dimensions\n",
    "    image.SliceThickness = slice_width\n",
    "    image.ImagePositionPatient = [image_positions[0], image_positions[0], slice_positions[0]]\n",
    "    image.SliceLocation = slice_positions[i]\n",
    "    image.Rows = image_matrix_size\n",
    "    image.Columns = image_matrix_size\n",
    "    image.PixelSpacing = [image_pixel_size, image_pixel_size]\n",
    "    \n",
    "    image.PixelData = pixel_map[:,:,i].reshape((image_matrix_size, image_matrix_size)).tobytes()\"\"\"\n",
    "    \n",
    "    image.save_as(save_path / file_name)\n",
    " "
   ]
  },
  {
   "cell_type": "code",
   "execution_count": 45,
   "metadata": {},
   "outputs": [
    {
     "data": {
      "text/plain": [
       "WindowsPath('output/CT.255.dcm')"
      ]
     },
     "execution_count": 45,
     "metadata": {},
     "output_type": "execute_result"
    }
   ],
   "source": [
    "save_path / file_name"
   ]
  },
  {
   "cell_type": "code",
   "execution_count": 56,
   "metadata": {},
   "outputs": [],
   "source": [
    "# Building a metadata writer\n",
    "\n",
    "def write_meta_data(dcm):\n",
    "\n",
    "    # Instance creation\n",
    "    now = datetime.datetime.now()\n",
    "    now_date = now.strftime(\"%Y%m%d\")\n",
    "    now_time = now.strftime(\"%H%M%S\")\n",
    "\n",
    "    # Dates\n",
    "    dcm.InstanceCreationDate = now_date\n",
    "    dcm.StudyDate = now_date\n",
    "    dcm.SeriesDate = now_date\n",
    "    dcm.ContentDate = now_date\n",
    "\n",
    "    # Times\n",
    "    dcm.InstanceCreationTime = now_time\n",
    "    dcm.StudyTime = now_time\n",
    "    dcm.SeriesTime = now_time\n",
    "    dcm.ContentTime = now_time\n",
    "\n",
    "    # Description\n",
    "    dcm.StudyDescription = \"Virtual AlignRT Cube\"\n",
    "    dcm.SeriesDescription = f\"Matrix size: {image_matrix_size}, Image size: {image_physical_size} mm\"\n",
    "    dcm.OperatorsName = \"djj379\"\n",
    "\n",
    "    # Patient information\n",
    "    dcm.PatientName = \"ZZUWQA^AlignRTCube\"\n",
    "    dcm.PatientID = \"20210101DJJ\"\n",
    "    dcm.PatientBirthDate = now_date\n",
    "    dcm.PatientBirthTime = now_time\n",
    "\n",
    "    return dcm\n",
    "\n",
    "def write_image_dimensions(dcm, slice_index, slice_width, slice_positions, image_positions, image_matrix_size, image_pixel_size):\n",
    "    \n",
    "    # Image Dimensions\n",
    "    dcm.SliceThickness = slice_width\n",
    "    dcm.ImagePositionPatient = [image_positions[0], image_positions[0], slice_positions[0]]\n",
    "    dcm.SliceLocation = slice_positions[slice_index]\n",
    "    dcm.Rows = image_matrix_size\n",
    "    dcm.Columns = image_matrix_size\n",
    "    dcm.PixelSpacing = [image_pixel_size, image_pixel_size]\n",
    "    \n",
    "    \n",
    "    \n",
    "    "
   ]
  },
  {
   "cell_type": "code",
   "execution_count": 25,
   "metadata": {},
   "outputs": [
    {
     "data": {
      "text/plain": [
       "[-25.5, -25.5, -25.5]"
      ]
     },
     "execution_count": 25,
     "metadata": {},
     "output_type": "execute_result"
    }
   ],
   "source": [
    "thejeff.ImagePositionPatient\n"
   ]
  },
  {
   "cell_type": "code",
   "execution_count": 27,
   "metadata": {},
   "outputs": [
    {
     "data": {
      "text/plain": [
       "256"
      ]
     },
     "execution_count": 27,
     "metadata": {},
     "output_type": "execute_result"
    }
   ],
   "source": [
    "len(image_positions)"
   ]
  },
  {
   "cell_type": "code",
   "execution_count": 28,
   "metadata": {},
   "outputs": [
    {
     "data": {
      "text/plain": [
       "array([0.])"
      ]
     },
     "execution_count": 28,
     "metadata": {},
     "output_type": "execute_result"
    }
   ],
   "source": [
    "slice_positions"
   ]
  },
  {
   "cell_type": "code",
   "execution_count": null,
   "metadata": {},
   "outputs": [],
   "source": []
  }
 ],
 "metadata": {
  "kernelspec": {
   "display_name": "Python 3",
   "language": "python",
   "name": "python3"
  },
  "language_info": {
   "codemirror_mode": {
    "name": "ipython",
    "version": 3
   },
   "file_extension": ".py",
   "mimetype": "text/x-python",
   "name": "python",
   "nbconvert_exporter": "python",
   "pygments_lexer": "ipython3",
   "version": "3.8.3"
  }
 },
 "nbformat": 4,
 "nbformat_minor": 4
}
