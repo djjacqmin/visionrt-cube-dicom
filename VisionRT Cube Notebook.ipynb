{
 "cells": [
  {
   "cell_type": "code",
   "execution_count": 1,
   "metadata": {},
   "outputs": [],
   "source": [
    "import pydicom\n",
    "import numpy as np\n",
    "from pathlib import Path\n",
    "from tqdm import tqdm"
   ]
  },
  {
   "cell_type": "code",
   "execution_count": 20,
   "metadata": {},
   "outputs": [],
   "source": [
    "# Parameters for Cube Geometry\n",
    "cube_half_width = 75 # mm\n",
    "cube_inside_bevel = 67 # mm\n",
    "bevel_radius = cube_half_width - cube_inside_bevel\n",
    "cube_HU = -15\n",
    "\n",
    "sphere_diameter = 7.5 # mm\n",
    "sphere_centers = np.array([[-10,-25,-30],[10,-15,-15],[0,0,0],[-20,20,10],[20,30,20]])\n",
    "sphere_HU = 3060\n",
    "\n",
    "# Parameters to jitter cube surface to make it imperfect\n",
    "include_jitter = False\n",
    "max_jitter = 0.02 # mm\n",
    "\n",
    "# Parameters for Image Geometry\n",
    "image_matrix_size = 256\n",
    "image_physical_size = 200 # mm\n",
    "image_pixel_size = image_physical_size / image_matrix_size\n",
    "image_positions = np.arange(image_matrix_size)*image_pixel_size + image_pixel_size/2 - image_physical_size/2\n",
    "\n",
    "\n",
    "# Parameters for Slice Geometry\n",
    "number_of_slices = 1\n",
    "image_physical_length = 200 # mm\n",
    "slice_width = image_physical_length / number_of_slices # plus one?\n",
    "slice_positions = np.arange(number_of_slices)*slice_width + slice_width/2 - image_physical_length/2"
   ]
  },
  {
   "cell_type": "code",
   "execution_count": 5,
   "metadata": {},
   "outputs": [],
   "source": [
    "def is_in_sphere(loc):\n",
    "    \"\"\"Checks whether the point loc is in the cube\n",
    "    \n",
    "    PARAMETERS\n",
    "    ----------\n",
    "    loc : list of float\n",
    "        A list of length 3 corresponding to the x, y and z coordinates of the point\n",
    "    \n",
    "    RETURNS\n",
    "    -------\n",
    "    True if the point is in the a sphere, else False\n",
    "    \n",
    "    \"\"\"\n",
    "    \n",
    "    assert len(loc) == 3, \"loc must be a list of three floating point integers\"\n",
    "    \n",
    "    for origin in sphere_centers:\n",
    "        vec = loc - origin\n",
    "        dist = np.linalg.norm(vec)\n",
    "        if dist <= sphere_diameter/2:\n",
    "            return True\n",
    "    \n",
    "    return False\n",
    "\n",
    "def is_in_cube(loc, rounded_edges=True):\n",
    "    \"\"\"Checks whether the point loc is in the cube\n",
    "    \n",
    "    PARAMETERS\n",
    "    ----------\n",
    "    loc : list of float\n",
    "        A list of length 3 corresponding to the x, y and z coordinates of the point\n",
    "    rounded_edges: bool\n",
    "        If True, evaluates for a cube with rounded edges. If false, assumes cube\n",
    "        has sharp edges (default is True)\n",
    "    \n",
    "    RETURNS\n",
    "    -------\n",
    "    True if the point is in the cube, else False\n",
    "    \n",
    "    \"\"\"\n",
    "    \n",
    "    assert len(loc) == 3, \"loc must be a list of three floating point integers\"\n",
    "    \n",
    "    # Cube is symmetric, take abs of x,y,z, convert to ndarray which allows slicing\n",
    "    loc = np.abs(loc)\n",
    "    \n",
    "    # Case 1: Any of the values are greater than the cube half-width, return false:\n",
    "    if any(loc > cube_half_width):\n",
    "        return False\n",
    "    \n",
    "    # If we are not using rounded edges, then we are done. Return True\n",
    "    if not rounded_edges:\n",
    "        return True\n",
    "    \n",
    "    # Case 2: All of the values are less than the cube_inside_bevel, return True:\n",
    "    if all(loc <= cube_inside_bevel):\n",
    "        return True\n",
    "    \n",
    "    # Case 3: If exactly one dimension is greater than cube_inside_bevel, \n",
    "    # then the point is adjacent to a cube face, return True:\n",
    "    if sum(loc > cube_inside_bevel) == 1:\n",
    "        return True\n",
    "\n",
    "    # Case 4: If exactly two dimensions are greater than cube_inside_bevel, \n",
    "    # then the point is adjacent to a cube edge. The point defined by the two\n",
    "    # dimensions that are greater than the cube_inside_bevel must be within a \n",
    "    # radius of bevel_radius of the point cube_inside_bevel*[1,1]:\n",
    "    if sum(loc > cube_inside_bevel) == 2:\n",
    "        \n",
    "        # Get the indicies whose value is greater than cube_inside_bevel\n",
    "        tf_array = loc > cube_inside_bevel\n",
    "    \n",
    "        # Create a 2D vector from the origin to the point in the edge region\n",
    "        origin = cube_inside_bevel*np.ones((3,1))\n",
    "        \n",
    "        vec = loc[tf_array] - origin[tf_array]\n",
    "        dist = np.linalg.norm(vec)\n",
    "        if dist <= bevel_radius:\n",
    "            return True\n",
    "        else:\n",
    "            return False\n",
    "    \n",
    "    # Case 5: If exactly three dimensions are greater than cube_inside_bevel, \n",
    "    # then the point is adjacent to a cube corner. The point must be within a \n",
    "    # radius of bevel_radius of the point cube_inside_bevel*[1,1,1]:\n",
    "    if sum(loc > cube_inside_bevel) == 3:\n",
    "        origin = cube_inside_bevel*np.ones((3,1))\n",
    "        vec = loc - origin\n",
    "        dist = np.linalg.norm(vec)\n",
    "        if dist <= bevel_radius:\n",
    "            return True\n",
    "        else:\n",
    "            return False\n",
    "    \n",
    "    \n",
    "\n"
   ]
  },
  {
   "cell_type": "code",
   "execution_count": 6,
   "metadata": {},
   "outputs": [],
   "source": [
    "def is_in_sphere_np(x, y, z):\n",
    "    \"\"\"\n",
    "    \n",
    "    PARAMETERS\n",
    "    ----------\n",
    "    x : list of float\n",
    "        A list of image coordinates in the x-dimension\n",
    "    y : list of float\n",
    "        A list of image coordinates in the y-dimension\n",
    "    z : list of float\n",
    "        A list of image coordinates in the z-dimension\n",
    "    \n",
    "    RETURNS\n",
    "    -------\n",
    "    A 3D array of shape (len(x),len(y),len(z)), where the array value (i,j,k) is True \n",
    "    if the point x[i], y[j], z[k] is locted in a in the a sphere, else False\n",
    "    \n",
    "    \"\"\"\n",
    "        \n",
    "    XX, YY, ZZ = np.meshgrid(x, y, z, indexing='ij')\n",
    "    \n",
    "    is_in_sphere_array = np.zeros(XX.shape, dtype=bool)\n",
    "    \n",
    "    for origin in sphere_centers:\n",
    "        DXX = XX - origin[0]\n",
    "        DYY = YY - origin[1]\n",
    "        DZZ = ZZ - origin[2]\n",
    "        \n",
    "        quad_sum = np.square(DXX) + np.square(DYY) + np.square(DZZ)\n",
    "        \n",
    "        is_in_this_sphere = (quad_sum <= (sphere_diameter/2)**2)\n",
    "        \n",
    "        np.logical_or(is_in_this_sphere, is_in_sphere_array, out=is_in_sphere_array)\n",
    "    \n",
    "    return is_in_sphere_array"
   ]
  },
  {
   "cell_type": "code",
   "execution_count": 7,
   "metadata": {},
   "outputs": [
    {
     "name": "stderr",
     "output_type": "stream",
     "text": [
      "100%|████████████████████████████████████████████████████████████████████████████████████████████████████████████████████████████████| 1/1 [00:24<00:00, 24.07s/it]\n"
     ]
    },
    {
     "data": {
      "image/png": "[encoded data removed]",
      "text/plain": [
       "<Figure size 2160x2160 with 1 Axes>"
      ]
     },
     "metadata": {
      "needs_background": "light"
     },
     "output_type": "display_data"
    }
   ],
   "source": [
    "slice_collection = []\n",
    "for k, z in enumerate(tqdm(slice_positions)):\n",
    "    \n",
    "    pixel_map = np.zeros((image_matrix_size, image_matrix_size))-1000\n",
    "    for i, x in enumerate(image_positions):\n",
    "        for j, y in enumerate(image_positions):\n",
    "            \n",
    "            if is_in_sphere((x, y, z)):\n",
    "                pixel_map[i][j] = sphere_HU\n",
    "            elif is_in_cube((x, y, z)):\n",
    "                pixel_map[i][j] = cube_HU\n",
    "                \n",
    "\n",
    "    slice_collection.append(pixel_map)\n",
    "\n",
    "slices = slice_collection\n",
    "\n",
    "# pixel aspects, assuming all slices are the same\n",
    "ps = (image_pixel_size,image_pixel_size)\n",
    "ss = slice_width\n",
    "ax_aspect = ps[1]/ps[0]\n",
    "sag_aspect = ps[1]/ss\n",
    "cor_aspect = ss/ps[0]\n",
    "\n",
    "# create 3D array\n",
    "img_shape = list(slices[0].shape)\n",
    "img_shape.append(len(slices))\n",
    "img3d = np.zeros(img_shape)\n",
    "\n",
    "# fill 3D array with the images from the files\n",
    "for i, s in enumerate(slices):\n",
    "    img2d = s\n",
    "    img3d[:, :, i] = img2d\n",
    "\n",
    "# plot 3 orthogonal slices\n",
    "f, axs = plt.subplots(1,1,figsize=(30,30))\n",
    "axs = plt.subplot(2, 2, 1)\n",
    "plt.imshow(img3d[:, :, img_shape[2]//2])\n",
    "\n",
    "plt.show()"
   ]
  },
  {
   "cell_type": "code",
   "execution_count": null,
   "metadata": {},
   "outputs": [],
   "source": []
  },
  {
   "cell_type": "code",
   "execution_count": 21,
   "metadata": {},
   "outputs": [
    {
     "data": {
      "image/png": "[encoded data removed]",
      "text/plain": [
       "<Figure size 1152x1152 with 1 Axes>"
      ]
     },
     "metadata": {
      "needs_background": "light"
     },
     "output_type": "display_data"
    }
   ],
   "source": [
    "pixel_map = np.zeros((image_matrix_size, image_matrix_size, number_of_slices))-1000\n",
    "\n",
    "tf_in_sphere = is_in_sphere_np(image_positions, image_positions, slice_positions)\n",
    "\n",
    "pixel_map[tf_in_sphere] = sphere_HU\n",
    "\n",
    "img_shape = list(pixel_map.shape)\n",
    "\n",
    "img3d = pixel_map\n",
    "\n",
    "\n",
    "# plot 3 orthogonal slices\n",
    "f, axs = plt.subplots(1,1,figsize=(16,16))\n",
    "\n",
    "plt.imshow(img3d[img_shape[0]//2,:,:])\n",
    "plt.imshow(img3d[:, img_shape[1]//2, :])\n",
    "plt.imshow(img3d[:, :, img_shape[2]//2])\n",
    "\n",
    "plt.show()\n",
    "\n"
   ]
  },
  {
   "cell_type": "code",
   "execution_count": 22,
   "metadata": {},
   "outputs": [
    {
     "data": {
      "text/plain": [
       "array([-99.609375, -98.828125, -98.046875, -97.265625, -96.484375,\n",
       "       -95.703125, -94.921875, -94.140625, -93.359375, -92.578125,\n",
       "       -91.796875, -91.015625, -90.234375, -89.453125, -88.671875,\n",
       "       -87.890625, -87.109375, -86.328125, -85.546875, -84.765625,\n",
       "       -83.984375, -83.203125, -82.421875, -81.640625, -80.859375,\n",
       "       -80.078125, -79.296875, -78.515625, -77.734375, -76.953125,\n",
       "       -76.171875, -75.390625, -74.609375, -73.828125, -73.046875,\n",
       "       -72.265625, -71.484375, -70.703125, -69.921875, -69.140625,\n",
       "       -68.359375, -67.578125, -66.796875, -66.015625, -65.234375,\n",
       "       -64.453125, -63.671875, -62.890625, -62.109375, -61.328125,\n",
       "       -60.546875, -59.765625, -58.984375, -58.203125, -57.421875,\n",
       "       -56.640625, -55.859375, -55.078125, -54.296875, -53.515625,\n",
       "       -52.734375, -51.953125, -51.171875, -50.390625, -49.609375,\n",
       "       -48.828125, -48.046875, -47.265625, -46.484375, -45.703125,\n",
       "       -44.921875, -44.140625, -43.359375, -42.578125, -41.796875,\n",
       "       -41.015625, -40.234375, -39.453125, -38.671875, -37.890625,\n",
       "       -37.109375, -36.328125, -35.546875, -34.765625, -33.984375,\n",
       "       -33.203125, -32.421875, -31.640625, -30.859375, -30.078125,\n",
       "       -29.296875, -28.515625, -27.734375, -26.953125, -26.171875,\n",
       "       -25.390625, -24.609375, -23.828125, -23.046875, -22.265625,\n",
       "       -21.484375, -20.703125, -19.921875, -19.140625, -18.359375,\n",
       "       -17.578125, -16.796875, -16.015625, -15.234375, -14.453125,\n",
       "       -13.671875, -12.890625, -12.109375, -11.328125, -10.546875,\n",
       "        -9.765625,  -8.984375,  -8.203125,  -7.421875,  -6.640625,\n",
       "        -5.859375,  -5.078125,  -4.296875,  -3.515625,  -2.734375,\n",
       "        -1.953125,  -1.171875,  -0.390625,   0.390625,   1.171875,\n",
       "         1.953125,   2.734375,   3.515625,   4.296875,   5.078125,\n",
       "         5.859375,   6.640625,   7.421875,   8.203125,   8.984375,\n",
       "         9.765625,  10.546875,  11.328125,  12.109375,  12.890625,\n",
       "        13.671875,  14.453125,  15.234375,  16.015625,  16.796875,\n",
       "        17.578125,  18.359375,  19.140625,  19.921875,  20.703125,\n",
       "        21.484375,  22.265625,  23.046875,  23.828125,  24.609375,\n",
       "        25.390625,  26.171875,  26.953125,  27.734375,  28.515625,\n",
       "        29.296875,  30.078125,  30.859375,  31.640625,  32.421875,\n",
       "        33.203125,  33.984375,  34.765625,  35.546875,  36.328125,\n",
       "        37.109375,  37.890625,  38.671875,  39.453125,  40.234375,\n",
       "        41.015625,  41.796875,  42.578125,  43.359375,  44.140625,\n",
       "        44.921875,  45.703125,  46.484375,  47.265625,  48.046875,\n",
       "        48.828125,  49.609375,  50.390625,  51.171875,  51.953125,\n",
       "        52.734375,  53.515625,  54.296875,  55.078125,  55.859375,\n",
       "        56.640625,  57.421875,  58.203125,  58.984375,  59.765625,\n",
       "        60.546875,  61.328125,  62.109375,  62.890625,  63.671875,\n",
       "        64.453125,  65.234375,  66.015625,  66.796875,  67.578125,\n",
       "        68.359375,  69.140625,  69.921875,  70.703125,  71.484375,\n",
       "        72.265625,  73.046875,  73.828125,  74.609375,  75.390625,\n",
       "        76.171875,  76.953125,  77.734375,  78.515625,  79.296875,\n",
       "        80.078125,  80.859375,  81.640625,  82.421875,  83.203125,\n",
       "        83.984375,  84.765625,  85.546875,  86.328125,  87.109375,\n",
       "        87.890625,  88.671875,  89.453125,  90.234375,  91.015625,\n",
       "        91.796875,  92.578125,  93.359375,  94.140625,  94.921875,\n",
       "        95.703125,  96.484375,  97.265625,  98.046875,  98.828125,\n",
       "        99.609375])"
      ]
     },
     "execution_count": 22,
     "metadata": {},
     "output_type": "execute_result"
    }
   ],
   "source": [
    "image_positions"
   ]
  },
  {
   "cell_type": "code",
   "execution_count": 192,
   "metadata": {},
   "outputs": [],
   "source": [
    "\n"
   ]
  },
  {
   "cell_type": "code",
   "execution_count": 193,
   "metadata": {},
   "outputs": [
    {
     "data": {
      "text/plain": [
       "<matplotlib.image.AxesImage at 0x26710d44430>"
      ]
     },
     "execution_count": 193,
     "metadata": {},
     "output_type": "execute_result"
    },
    {
     "data": {
      "image/png": "[encoded data removed]",
      "text/plain": [
       "<Figure size 432x288 with 1 Axes>"
      ]
     },
     "metadata": {
      "needs_background": "light"
     },
     "output_type": "display_data"
    }
   ],
   "source": [
    "plt.imshow(is_in_sphere_array)"
   ]
  },
  {
   "cell_type": "code",
   "execution_count": 189,
   "metadata": {},
   "outputs": [
    {
     "data": {
      "text/plain": [
       "(128, 128, 1)"
      ]
     },
     "execution_count": 189,
     "metadata": {},
     "output_type": "execute_result"
    }
   ],
   "source": [
    "quad_sum.shape"
   ]
  },
  {
   "cell_type": "code",
   "execution_count": 226,
   "metadata": {},
   "outputs": [
    {
     "data": {
      "text/plain": [
       "9.6"
      ]
     },
     "execution_count": 226,
     "metadata": {},
     "output_type": "execute_result"
    }
   ],
   "source": [
    "7.5 / image_pixel_size"
   ]
  },
  {
   "cell_type": "code",
   "execution_count": 102,
   "metadata": {},
   "outputs": [
    {
     "data": {
      "text/plain": [
       "14.0625"
      ]
     },
     "execution_count": 102,
     "metadata": {},
     "output_type": "execute_result"
    }
   ],
   "source": [
    "(sphere_diameter/2)**2"
   ]
  },
  {
   "cell_type": "code",
   "execution_count": 14,
   "metadata": {},
   "outputs": [
    {
     "name": "stdout",
     "output_type": "stream",
     "text": [
      "file count: 258\n",
      "skipped, no SliceLocation: 0\n"
     ]
    },
    {
     "data": {
      "image/png": "[encoded data removed]",
      "text/plain": [
       "<Figure size 432x288 with 3 Axes>"
      ]
     },
     "metadata": {
      "needs_background": "light"
     },
     "output_type": "display_data"
    }
   ],
   "source": [
    "import pydicom\n",
    "import numpy as np\n",
    "import matplotlib.pyplot as plt\n",
    "import sys\n",
    "import glob\n",
    "\n",
    "dicom_path = Path(\"../visionrt-cube-dicom/data/\")\n",
    "\n",
    "# load the DICOM files\n",
    "files = []\n",
    "\n",
    "for fname in dicom_path.iterdir():\n",
    "    # print(\"loading: {}\".format(fname))\n",
    "    files.append(pydicom.dcmread(fname))\n",
    "\n",
    "print(\"file count: {}\".format(len(files)))\n",
    "\n",
    "# skip files with no SliceLocation (eg scout views)\n",
    "slices = []\n",
    "skipcount = 0\n",
    "for f in files:\n",
    "    if hasattr(f, 'SliceLocation'):\n",
    "        slices.append(f)\n",
    "        break\n",
    "        \n",
    "    else:\n",
    "        skipcount = skipcount + 1\n",
    "\n",
    "print(\"skipped, no SliceLocation: {}\".format(skipcount))\n",
    "\n",
    "# ensure they are in the correct order\n",
    "slices = sorted(slices, key=lambda s: s.SliceLocation)\n",
    "\n",
    "# pixel aspects, assuming all slices are the same\n",
    "ps = slices[0].PixelSpacing\n",
    "ss = slices[0].SliceThickness\n",
    "ax_aspect = ps[1]/ps[0]\n",
    "sag_aspect = ps[1]/ss\n",
    "cor_aspect = ss/ps[0]\n",
    "\n",
    "# create 3D array\n",
    "img_shape = list(slices[0].pixel_array.shape)\n",
    "img_shape.append(len(slices))\n",
    "img3d = np.zeros(img_shape)\n",
    "\n",
    "# fill 3D array with the images from the files\n",
    "for i, s in enumerate(slices):\n",
    "    img2d = s.pixel_array\n",
    "    img3d[:, :, i] = img2d\n",
    "\n",
    "# plot 3 orthogonal slices\n",
    "a1 = plt.subplot(2, 2, 1)\n",
    "plt.imshow(img3d[:, :, img_shape[2]//2])\n",
    "a1.set_aspect(ax_aspect)\n",
    "\n",
    "a2 = plt.subplot(2, 2, 2)\n",
    "plt.imshow(img3d[:, img_shape[1]//2, :])\n",
    "a2.set_aspect(sag_aspect)\n",
    "\n",
    "a3 = plt.subplot(2, 2, 3)\n",
    "plt.imshow(img3d[img_shape[0]//2, :, :].T)\n",
    "a3.set_aspect(cor_aspect)\n",
    "\n",
    "plt.show()"
   ]
  },
  {
   "cell_type": "code",
   "execution_count": 15,
   "metadata": {},
   "outputs": [],
   "source": [
    "thejeff = pydicom.dcmread(fname)"
   ]
  },
  {
   "cell_type": "code",
   "execution_count": 19,
   "metadata": {},
   "outputs": [
    {
     "data": {
      "text/plain": [
       "Dataset.file_meta -------------------------------\n",
       "(0002, 0000) File Meta Information Group Length  UL: 194\n",
       "(0002, 0001) File Meta Information Version       OB: b'\\x00\\x01'\n",
       "(0002, 0002) Media Storage SOP Class UID         UI: CT Image Storage\n",
       "(0002, 0003) Media Storage SOP Instance UID      UI: 1.3.6.1.4.1.9590.100.1.2.77547029415988507727916493120304174686\n",
       "(0002, 0010) Transfer Syntax UID                 UI: Implicit VR Little Endian\n",
       "(0002, 0012) Implementation Class UID            UI: 1.2.246.352.70.2.1.160.3\n",
       "(0002, 0013) Implementation Version Name         SH: 'DCIE 2.2'\n",
       "-------------------------------------------------\n",
       "(0008, 0005) Specific Character Set              CS: 'ISO_IR 192'\n",
       "(0008, 0008) Image Type                          CS: ['ORIGINAL', 'PRIMARY', 'AXIAL']\n",
       "(0008, 0012) Instance Creation Date              DA: '20200709'\n",
       "(0008, 0013) Instance Creation Time              TM: '112407'\n",
       "(0008, 0016) SOP Class UID                       UI: CT Image Storage\n",
       "(0008, 0018) SOP Instance UID                    UI: 1.3.6.1.4.1.9590.100.1.2.77547029415988507727916493120304174686\n",
       "(0008, 0020) Study Date                          DA: '20170726'\n",
       "(0008, 0021) Series Date                         DA: '20170726'\n",
       "(0008, 0023) Content Date                        DA: '20170726'\n",
       "(0008, 0030) Study Time                          TM: '120000'\n",
       "(0008, 0031) Series Time                         TM: '120000'\n",
       "(0008, 0033) Content Time                        TM: '120000'\n",
       "(0008, 0050) Accession Number                    SH: ''\n",
       "(0008, 0060) Modality                            CS: 'CT'\n",
       "(0008, 0070) Manufacturer                        LO: 'SIEMENS'\n",
       "(0008, 0080) Institution Name                    LO: 'UWHC'\n",
       "(0008, 0090) Referring Physician's Name          PN: ''\n",
       "(0008, 1010) Station Name                        SH: 'CTAWP83266'\n",
       "(0008, 1030) Study Description                   LO: 'Virtual Sphere CT'\n",
       "(0008, 103e) Series Description                  LO: '0.2mm voxels 7.5mm sphere smooth'\n",
       "(0008, 1070) Operators' Name                     PN: 'zelabby'\n",
       "(0008, 1090) Manufacturer's Model Name           LO: 'SOMATOM Definition Edge'\n",
       "(0010, 0010) Patient's Name                      PN: 'ZZUWQA^WinstonLutzTests'\n",
       "(0010, 0020) Patient ID                          LO: '20150925ZEL'\n",
       "(0010, 0030) Patient's Birth Date                DA: '20150925'\n",
       "(0010, 0032) Patient's Birth Time                TM: '000000'\n",
       "(0010, 0040) Patient's Sex                       CS: ''\n",
       "(0018, 0050) Slice Thickness                     DS: \"1.0\"\n",
       "(0018, 0060) KVP                                 DS: \"120.0\"\n",
       "(0018, 0090) Data Collection Diameter            DS: \"500.0\"\n",
       "(0018, 1100) Reconstruction Diameter             DS: \"73.0\"\n",
       "(0018, 1110) Distance Source to Detector         DS: \"1085.59997558593\"\n",
       "(0018, 1111) Distance Source to Patient          DS: \"595.0\"\n",
       "(0018, 1120) Gantry/Detector Tilt                DS: \"0.0\"\n",
       "(0018, 1130) Table Height                        DS: \"157.5\"\n",
       "(0018, 1150) Exposure Time                       IS: \"1000\"\n",
       "(0018, 1151) X-Ray Tube Current                  IS: \"425\"\n",
       "(0018, 1152) Exposure                            IS: \"425\"\n",
       "(0018, 1170) Generator Power                     IS: \"51\"\n",
       "(0018, 1190) Focal Spot(s)                       DS: \"1.20000004768371\"\n",
       "(0018, 1210) Convolution Kernel                  SH: 'H30s'\n",
       "(0018, 5100) Patient Position                    CS: 'HFS'\n",
       "(0020, 000d) Study Instance UID                  UI: 1.3.6.1.4.1.9590.100.1.2.27470788236264419824184503951405751137\n",
       "(0020, 000e) Series Instance UID                 UI: 1.3.6.1.4.1.9590.100.1.2.208559346010885851721678246080195576818\n",
       "(0020, 0010) Study ID                            SH: '3'\n",
       "(0020, 0011) Series Number                       IS: \"2\"\n",
       "(0020, 0012) Acquisition Number                  IS: \"1\"\n",
       "(0020, 0013) Instance Number                     IS: \"1\"\n",
       "(0020, 0032) Image Position (Patient)            DS: [-25.5, -25.5, -25.5]\n",
       "(0020, 0037) Image Orientation (Patient)         DS: [1, 0, 0, 0, 1, 0]\n",
       "(0020, 0052) Frame of Reference UID              UI: 1.3.6.1.4.1.9590.100.1.2.250650301640513614528263570671221772892\n",
       "(0020, 1040) Position Reference Indicator        LO: ''\n",
       "(0020, 1041) Slice Location                      DS: \"-25.5\"\n",
       "(0028, 0002) Samples per Pixel                   US: 1\n",
       "(0028, 0004) Photometric Interpretation          CS: 'MONOCHROME2'\n",
       "(0028, 0010) Rows                                US: 256\n",
       "(0028, 0011) Columns                             US: 256\n",
       "(0028, 0030) Pixel Spacing                       DS: [0.2, 0.2]\n",
       "(0028, 0100) Bits Allocated                      US: 16\n",
       "(0028, 0101) Bits Stored                         US: 16\n",
       "(0028, 0102) High Bit                            US: 15\n",
       "(0028, 0103) Pixel Representation                US: 1\n",
       "(0028, 1050) Window Center                       DS: \"-362.0\"\n",
       "(0028, 1051) Window Width                        DS: \"1324.0\"\n",
       "(0028, 1052) Rescale Intercept                   DS: \"-1000.0\"\n",
       "(0028, 1053) Rescale Slope                       DS: \"1.0\"\n",
       "(3253, 0010) Private Creator                     LO: 'Varian Medical Systems VISION 3253'\n",
       "(3253, 1000) [XML stream.]                       UN: Array of 484 elements\n",
       "(3253, 1001) [Data length of the XML stream]     UN: b'0 '\n",
       "(3253, 1002) [Extended Interface Format tag]     UN: b'ImageProcessing '\n",
       "(7fe0, 0010) Pixel Data                          OW: Array of 131072 elements"
      ]
     },
     "execution_count": 19,
     "metadata": {},
     "output_type": "execute_result"
    }
   ],
   "source": [
    "f"
   ]
  },
  {
   "cell_type": "code",
   "execution_count": null,
   "metadata": {},
   "outputs": [],
   "source": []
  }
 ],
 "metadata": {
  "kernelspec": {
   "display_name": "Python 3",
   "language": "python",
   "name": "python3"
  },
  "language_info": {
   "codemirror_mode": {
    "name": "ipython",
    "version": 3
   },
   "file_extension": ".py",
   "mimetype": "text/x-python",
   "name": "python",
   "nbconvert_exporter": "python",
   "pygments_lexer": "ipython3",
   "version": "3.8.3"
  }
 },
 "nbformat": 4,
 "nbformat_minor": 4
}
