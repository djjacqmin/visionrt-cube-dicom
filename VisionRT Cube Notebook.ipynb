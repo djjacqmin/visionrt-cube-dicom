{
 "cells": [
  {
   "cell_type": "code",
   "execution_count": 10,
   "metadata": {},
   "outputs": [],
   "source": [
    "import pydicom\n",
    "import numpy as np"
   ]
  },
  {
   "cell_type": "code",
   "execution_count": 14,
   "metadata": {},
   "outputs": [],
   "source": [
    "# Parameters for Cube Geometry\n",
    "cube_half_width = 75 # mm\n",
    "cube_inside_bevel = 67 # mm\n",
    "bevel_radius = cube_half_width - cube_inside_bevel\n",
    "cube_HU = -15\n",
    "\n",
    "sphere_diameter = 7.5 # mm\n",
    "sphere_centers = np.array([[-10,-25,-30],[10,-15,-15],[0,0,0],[-20,20,10],[20,30,20]])\n",
    "sphere_HU = 3060\n",
    "\n",
    "# Parameters to jitter cube surface to make it imperfect\n",
    "include_jitter = False\n",
    "max_jitter = 0.02 # mm\n",
    "\n",
    "# Parameters for Image Geometry\n",
    "image_matrix_size = 512\n",
    "image_physical_size = 200 # mm\n",
    "image_pixel_size = image_physical_size / image_matrix_size\n",
    "\n",
    "# Parameters for Slice Geometry\n",
    "number_of_slices = 512\n",
    "image_physical_length = 200 # mm\n",
    "slice_width = image_physical_length / number_of_slices # plus one?"
   ]
  },
  {
   "cell_type": "code",
   "execution_count": 68,
   "metadata": {},
   "outputs": [],
   "source": [
    "def is_in_sphere(loc):\n",
    "    \"\"\"Checks whether the point loc is in the cube\n",
    "    \n",
    "    PARAMETERS\n",
    "    ----------\n",
    "    loc : list of float\n",
    "        A list of length 3 corresponding to the x, y and z coordinates of the point\n",
    "    \n",
    "    RETURNS\n",
    "    -------\n",
    "    True if the point is in the a sphere, else False\n",
    "    \n",
    "    \"\"\"\n",
    "    \n",
    "    assert len(loc) == 3, \"loc must be a list of three floating point integers\"\n",
    "    \n",
    "    for origin in sphere_centers:\n",
    "        vec = loc - origin\n",
    "        dist = np.linalg.norm(vec)\n",
    "        if dist <= sphere_diameter/2:\n",
    "            return True\n",
    "    \n",
    "    return False\n",
    "\n",
    "def is_in_cube(loc, rounded_edges=True):\n",
    "    \"\"\"Checks whether the point loc is in the cube\n",
    "    \n",
    "    PARAMETERS\n",
    "    ----------\n",
    "    loc : list of float\n",
    "        A list of length 3 corresponding to the x, y and z coordinates of the point\n",
    "    rounded_edges: bool\n",
    "        If True, evaluates for a cube with rounded edges. If false, assumes cube\n",
    "        has sharp edges (default is True)\n",
    "    \n",
    "    RETURNS\n",
    "    -------\n",
    "    True if the point is in the cube, else False\n",
    "    \n",
    "    \"\"\"\n",
    "    \n",
    "    assert len(loc) == 3, \"loc must be a list of three floating point integers\"\n",
    "    \n",
    "    # Cube is symmetric, take abs of x,y,z, convert to ndarray which allows slicing\n",
    "    loc = np.abs(loc)\n",
    "    \n",
    "    # Case 1: Any of the values are greater than the cube half-width, return false:\n",
    "    if any(loc > cube_half_width):\n",
    "        return False\n",
    "    \n",
    "    # If we are not using rounded edges, then we are done. Return True\n",
    "    if not rounded_edges:\n",
    "        return True\n",
    "    \n",
    "    # Case 2: All of the values are less than the cube_inside_bevel, return True:\n",
    "    if all(loc <= cube_inside_bevel):\n",
    "        return True\n",
    "    \n",
    "    # Case 3: If exactly one dimension is greater than cube_inside_bevel, \n",
    "    # then the point is adjacent to a cube face, return True:\n",
    "    if sum(loc > cube_inside_bevel) == 1:\n",
    "        return True\n",
    "\n",
    "    # Case 4: If exactly two dimensions are greater than cube_inside_bevel, \n",
    "    # then the point is adjacent to a cube edge. The point defined by the two\n",
    "    # dimensions that are greater than the cube_inside_bevel must be within a \n",
    "    # radius of bevel_radius of the point cube_inside_bevel*[1,1]:\n",
    "    if sum(loc > cube_inside_bevel) == 2:\n",
    "        \n",
    "        # Get the indicies whose value is greater than cube_inside_bevel\n",
    "        tf_array = loc > cube_inside_bevel\n",
    "    \n",
    "        # Create a 2D vector from the origin to the point in the edge region\n",
    "        origin = cube_inside_bevel*np.ones((3,1))\n",
    "        \n",
    "        vec = loc[tf_array] - origin[tf_array]\n",
    "        dist = np.linalg.norm(vec)\n",
    "        if dist <= bevel_radius:\n",
    "            return True\n",
    "        else:\n",
    "            return False\n",
    "    \n",
    "    # Case 5: If exactly three dimensions are greater than cube_inside_bevel, \n",
    "    # then the point is adjacent to a cube corner. The point must be within a \n",
    "    # radius of bevel_radius of the point cube_inside_bevel*[1,1,1]:\n",
    "    if sum(loc > cube_inside_bevel) == 3:\n",
    "        origin = cube_inside_bevel*np.ones((3,1))\n",
    "        vec = loc - origin\n",
    "        dist = np.linalg.norm(vec)\n",
    "        if dist <= bevel_radius:\n",
    "            return True\n",
    "        else:\n",
    "            return False\n",
    "    \n"
   ]
  },
  {
   "cell_type": "code",
   "execution_count": 76,
   "metadata": {},
   "outputs": [
    {
     "data": {
      "text/plain": [
       "False"
      ]
     },
     "execution_count": 76,
     "metadata": {},
     "output_type": "execute_result"
    }
   ],
   "source": [
    "is_in_sphere([-10+8,-25,-30])"
   ]
  },
  {
   "cell_type": "code",
   "execution_count": 67,
   "metadata": {},
   "outputs": [
    {
     "data": {
      "text/plain": [
       "(1, 3)"
      ]
     },
     "execution_count": 67,
     "metadata": {},
     "output_type": "execute_result"
    }
   ],
   "source": [
    "np.ones((1,3)).shape"
   ]
  },
  {
   "cell_type": "code",
   "execution_count": null,
   "metadata": {},
   "outputs": [],
   "source": []
  }
 ],
 "metadata": {
  "kernelspec": {
   "display_name": "Python 3",
   "language": "python",
   "name": "python3"
  },
  "language_info": {
   "codemirror_mode": {
    "name": "ipython",
    "version": 3
   },
   "file_extension": ".py",
   "mimetype": "text/x-python",
   "name": "python",
   "nbconvert_exporter": "python",
   "pygments_lexer": "ipython3",
   "version": "3.8.3"
  }
 },
 "nbformat": 4,
 "nbformat_minor": 4
}
